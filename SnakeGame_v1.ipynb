{
 "cells": [
  {
   "cell_type": "code",
   "execution_count": 2,
   "id": "da4a9e42",
   "metadata": {},
   "outputs": [
    {
     "name": "stdout",
     "output_type": "stream",
     "text": [
      "Requirement already satisfied: pygame in c:\\users\\krith\\anaconda3\\lib\\site-packages (2.1.2)Note: you may need to restart the kernel to use updated packages.\n",
      "\n"
     ]
    }
   ],
   "source": [
    "pip install pygame"
   ]
  },
  {
   "cell_type": "code",
   "execution_count": 1,
   "id": "3bebb5a3",
   "metadata": {},
   "outputs": [
    {
     "name": "stdout",
     "output_type": "stream",
     "text": [
      "pygame 2.1.2 (SDL 2.0.18, Python 3.9.7)\n",
      "Hello from the pygame community. https://www.pygame.org/contribute.html\n"
     ]
    }
   ],
   "source": [
    "import pygame as pg"
   ]
  },
  {
   "cell_type": "code",
   "execution_count": 2,
   "id": "53046eac",
   "metadata": {},
   "outputs": [],
   "source": [
    "#creating the screen\n",
    "\n",
    "pg.init()\n",
    "disp=pg.display.set_mode((300,400))\n",
    "pg.display.update()\n",
    "pg.display.set_caption(\"Welcome to Snake Game!\")\n",
    "game_over=False\n",
    "while not game_over:\n",
    "    for event in pg.event.get():\n",
    "        #print(event)-prints all actions on the screen\n",
    "        if event.type==pg.QUIT:\n",
    "            game_over=True       #closes on pressing close button \n",
    "        \n",
    "pg.quit()\n",
    "quit()"
   ]
  },
  {
   "cell_type": "code",
   "execution_count": 2,
   "id": "df28daf6",
   "metadata": {},
   "outputs": [
    {
     "name": "stdout",
     "output_type": "stream",
     "text": [
      "pygame 2.1.2 (SDL 2.0.18, Python 3.9.7)\n",
      "Hello from the pygame community. https://www.pygame.org/contribute.html\n"
     ]
    }
   ],
   "source": [
    "#create the snake\n",
    "import pygame as pg\n",
    "pg.init()\n",
    "disp=pg.display.set_mode((300,400))\n",
    "pg.display.update()\n",
    "pg.display.set_caption(\"Welcome to Snake Game!\")\n",
    "\n",
    "blue=(0,0,255)\n",
    "red=(255,0,0)\n",
    "\n",
    "game_over=False\n",
    "while not game_over:\n",
    "    for event in pg.event.get():\n",
    "        #print(event)-prints all actions on the screen\n",
    "        if event.type==pg.QUIT:\n",
    "            game_over=True\n",
    "    pg.draw.rect(disp, blue,[200,150,10,10])\n",
    "    pg.display.update()\n",
    "pg.quit()\n",
    "quit()\n",
    "\n"
   ]
  },
  {
   "cell_type": "code",
   "execution_count": null,
   "id": "2278850f",
   "metadata": {},
   "outputs": [
    {
     "name": "stdout",
     "output_type": "stream",
     "text": [
      "pygame 2.1.2 (SDL 2.0.18, Python 3.9.7)\n",
      "Hello from the pygame community. https://www.pygame.org/contribute.html\n"
     ]
    }
   ],
   "source": [
    "#move the snake\n",
    "\n",
    "import pygame as pg\n",
    "pg.init()\n",
    "\n",
    "white=(255,255,255)\n",
    "blue=(0,0,255)\n",
    "red=(255,0,0)\n",
    "black=(0,0,0)\n",
    "\n",
    "disp=pg.display.set_mode((500,600))\n",
    "pg.display.set_caption(\"Welcome to Snake Game!\")\n",
    "\n",
    "game_over=False\n",
    "\n",
    "x1=300\n",
    "y1=300\n",
    "\n",
    "x1_ch=0\n",
    "y1_ch=0\n",
    "\n",
    "clock=pg.time.Clock()\n",
    "\n",
    "while not game_over:\n",
    "    for event in pg.event.get():\n",
    "        if event.type==pg.QUIT:\n",
    "            game_over=True\n",
    "        if event.type==pg.KEYDOWN:\n",
    "            if event.key==pg.K_LEFT:\n",
    "                x1_ch=-10\n",
    "                y1_ch=0\n",
    "            elif event.key==pg.K_RIGHT:\n",
    "                x1_ch=10\n",
    "                y1_ch=0\n",
    "            elif event.key==pg.K_UP:\n",
    "                x1_ch=0\n",
    "                y1_ch=-10\n",
    "            elif event.key==pg.K_DOWN:\n",
    "                x1_ch=0\n",
    "                y1_ch=10\n",
    "    x1+=x1_ch\n",
    "    y1+=y1_ch\n",
    "    disp.fill(white)  #background color of screen\n",
    "    \n",
    "    pg.draw.rect(disp,black,[x1,y1,10,10])\n",
    "    pg.display.update()\n",
    "    clock.tick(30)\n",
    "    \n",
    "pg.quit()\n",
    "quit()\n"
   ]
  },
  {
   "cell_type": "code",
   "execution_count": null,
   "id": "f263cf55",
   "metadata": {},
   "outputs": [],
   "source": [
    "#when hits boundary\n",
    "\n"
   ]
  }
 ],
 "metadata": {
  "kernelspec": {
   "display_name": "Python 3 (ipykernel)",
   "language": "python",
   "name": "python3"
  },
  "language_info": {
   "codemirror_mode": {
    "name": "ipython",
    "version": 3
   },
   "file_extension": ".py",
   "mimetype": "text/x-python",
   "name": "python",
   "nbconvert_exporter": "python",
   "pygments_lexer": "ipython3",
   "version": "3.9.7"
  }
 },
 "nbformat": 4,
 "nbformat_minor": 5
}
